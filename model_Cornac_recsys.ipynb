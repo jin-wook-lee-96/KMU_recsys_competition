{
  "cells": [
    {
      "cell_type": "markdown",
      "metadata": {
        "id": "wzPrmZOMtXt1"
      },
      "source": [
        "<font color='tomato'><font color=\"#CC3D3D\"><p>\n",
        "# Cornac\n",
        "https://cornac.preferred.ai/\n",
        "    \n",
        "<img align='left' src='http://drive.google.com/uc?export=view&id=1dFW4nXMa6HKnUldt1M7wji5f0_wFidYV' /><br>    "
      ]
    },
    {
      "cell_type": "markdown",
      "metadata": {},
      "source": [
        "- **Cornac**\uc740 Multimodal \ucd94\ucc9c\uc2dc\uc2a4\ud15c\uc744 \uc704\ud55c \ube44\uad50 \ud504\ub808\uc784\uc6cc\ud06c(comparative framework)\n",
        "- Side information(\uc608: \ud56d\ubaa9 \uc124\uba85 \ud14d\uc2a4\ud2b8 \ubc0f \uc774\ubbf8\uc9c0, \uc18c\uc15c \ub124\ud2b8\uc6cc\ud06c \ub4f1)\ub97c \ud65c\uc6a9\ud558\ub294 \ubaa8\ub378\uc744 \ud3b8\ub9ac\ud558\uac8c \uc791\uc5c5\ud560 \uc218 \uc788\ub3c4\ub85d \ud558\ub294 \ub370 \uc911\uc810\n",
        "- \uc0c8\ub85c\uc6b4 \ubaa8\ub378\uc744 \ube60\ub974\uac8c \uc2e4\ud5d8\ud558\uace0 \uac04\ub2e8\ud558\uac8c \uad6c\ud604\uc774 \uac00\ub2a5\n",
        "- \uae30\uc874 \uba38\uc2e0 \ub7ec\ub2dd \ub77c\uc774\ube0c\ub7ec\ub9ac(\uc608: TensorFlow, PyTorch)\uc640 \ud638\ud658\uc131 \ub192\uc74c\n",
        "- \ucd94\ucc9c \uc54c\uace0\ub9ac\uc998\uc758 \ud3c9\uac00 \ubc0f \uc7ac\ud604\uc131\uc744 \uc704\ud574 ACM RecSys 2023\uc5d0\uc11c \uad8c\uc7a5\ud558\ub294 \ud504\ub808\uc784\uc6cc\ud06c \uc911 \ud558\ub098\n",
        "- Cornac\uc758 \uc2e4\ud5d8\uc808\ucc28    \n",
        "<img src=https://github.com/PreferredAI/cornac/raw/master/flow.jpg>"
      ]
    },
    {
      "cell_type": "markdown",
      "metadata": {
        "id": "MqktDa7H2hKz"
      },
      "source": [
        "### Setup"
      ]
    },
    {
      "cell_type": "code",
      "execution_count": 14,
      "metadata": {
        "id": "41oWCMUG2eC_"
      },
      "outputs": [],
      "source": [
        "# !pip install cornac==1.17\n",
        "# !pip install dgl"
      ]
    },
    {
      "cell_type": "code",
      "execution_count": 15,
      "metadata": {
        "colab": {
          "base_uri": "https://localhost:8080/"
        },
        "id": "YqKrDcGH2k7E",
        "outputId": "7f9ecda3-c025-4f77-8234-29f6edf20511"
      },
      "outputs": [
        {
          "name": "stdout",
          "output_type": "stream",
          "text": [
            "Cornac version: 1.17\n"
          ]
        }
      ],
      "source": [
        "import pandas as pd\n",
        "import numpy as np\n",
        "\n",
        "# MS recommenders API \n",
        "import sys\n",
        "sys.path.append('/msr')  # \ubcf8\uc778\uc774 msr.zip \uc555\ucd95\uc744 \ud47c \uc704\uce58\ub97c \ud655\uc778(\uc140\uc5d0\uc11c pwd \uba85\ub839\uc5b4 \uc2e4\ud589) \ud6c4 \ubcc0\uacbd\ud574\uc57c \ud568. \n",
        "                                                # \uc708\ub3c4\uc6b0\uc5d0\uc11c\ub294 \ud3f4\ub354 \uad6c\ubd84\uc790\ub97c // \ub610\ub294 \\\\\ub85c \ud574\uc57c \ud568.  \n",
        "from msr.cornac_utils import predict_ranking\n",
        "from msr.python_splitters import python_stratified_split\n",
        "\n",
        "# Cornac API \n",
        "import cornac\n",
        "print(f\"Cornac version: {cornac.__version__}\")\n",
        "from cornac.eval_methods import BaseMethod, RatioSplit, StratifiedSplit, CrossValidation #\ud3c9\uac00\ubc29\ubc95\n",
        "from cornac.models import BiVAECF, LightGCN, EASE, NGCF, WMF\n",
        "from cornac.metrics import Precision, Recall, NDCG, AUC, MAP #\ud3c9\uac00 \ucc99\ub3c4\n",
        "#from cornac.hyperopt import Discrete, Continuous\n",
        "#from cornac.hyperopt import GridSearch, RandomSearch"
      ]
    },
    {
      "cell_type": "code",
      "execution_count": 16,
      "metadata": {},
      "outputs": [],
      "source": [
        "# Data column definition\n",
        "DEFAULT_USER_COL = 'resume_seq'\n",
        "DEFAULT_ITEM_COL = 'recruitment_seq'\n",
        "DEFAULT_RATING_COL = 'rating' \n",
        "DEFAULT_PREDICTION_COL = 'prediction'\n",
        "\n",
        "# Top k items to recommend\n",
        "TOP_K = 15\n",
        "\n",
        "# Random seed, Verbose, etc.\n",
        "SEED = 202311\n",
        "VERBOSE = True"
      ]
    },
    {
      "cell_type": "markdown",
      "metadata": {},
      "source": [
        "### Data Preparation"
      ]
    },
    {
      "cell_type": "code",
      "execution_count": 17,
      "metadata": {},
      "outputs": [],
      "source": [
        "# \ub370\uc774\ud130 \ub85c\ub529\n",
        "data = pd.read_csv('data/apply_train.csv')\n",
        "data[DEFAULT_RATING_COL] = 1  # Cornac\uc5d0\uc11c \uc9c0\uc815\ud55c \ub370\uc774\ud130\ud615\uc2dd(UIR: User, Item, Rating)\uc5d0 \ub530\ub77c"
      ]
    },
    {
      "cell_type": "code",
      "execution_count": 18,
      "metadata": {},
      "outputs": [
        {
          "name": "stdout",
          "output_type": "stream",
          "text": [
            "ratings per train user:  4.715986795567083 \n",
            "ratings per test user:  2.115656684744164\n"
          ]
        }
      ],
      "source": [
        "# \ub370\uc774\ud130 \ubd84\ud560\n",
        "train, test = python_stratified_split(\n",
        "    data, \n",
        "    filter_by=\"user\", \n",
        "    ratio=0.7, #\ube44\uc728\uc744 \ub192\uc774\uba74 \ud14c\uc2a4\ud2b8\uc720\uc800\uac00 \ud30d\uc904\uc5b4\ubc84\ub9b0\ub2e4\n",
        "    col_user=DEFAULT_USER_COL, col_item=DEFAULT_ITEM_COL,\n",
        "    seed=SEED\n",
        ")\n",
        "\n",
        "print(\n",
        "    \"ratings per train user: \", train.groupby(DEFAULT_USER_COL).size().mean(), \n",
        "    \"\\nratings per test user: \", test.groupby(DEFAULT_USER_COL).size().mean()\n",
        ") \n",
        "\n",
        "#train, test = [], []\n",
        "#df_groupby = data.groupby(DEFAULT_USER_COL)[DEFAULT_ITEM_COL].apply(list)\n",
        "#for uid, iids in zip(df_groupby.index.tolist(), df_groupby.values.tolist()):\n",
        "#    for iid in iids[:-1]:\n",
        "#        train.append([uid,iid])\n",
        "#    test.append([uid, iids[-1]])    \n",
        "#train = pd.DataFrame(train); train.columns = {DEFAULT_USER_COL, DEFAULT_ITEM_COL}\n",
        "#test = pd.DataFrame(test); test.columns = {DEFAULT_USER_COL, DEFAULT_ITEM_COL}\n",
        "#train[DEFAULT_RATING_COL] = 1.0\n",
        "#test[DEFAULT_RATING_COL] = 1.0\n",
        "# \uc0ac\uc6a9\uc790\uac00 \uc9c0\uc6d0\ud55c \uacf3\uc911 \ub9e8 \ub9c8\uc9c0\ub9c9\ub9cc \ube7c\uc11c \ud14c\uc2a4\ud2b8 \ub370\uc774\ud130\ub85c \ub9cc\ub4e0\uac83"
      ]
    },
    {
      "cell_type": "markdown",
      "metadata": {},
      "source": [
        "### Modeling"
      ]
    },
    {
      "cell_type": "code",
      "execution_count": 19,
      "metadata": {},
      "outputs": [],
      "source": [
        "models = {}  # models['\ubaa8\ub378\uba85'][0] => model \uac1d\uccb4, models['\ubaa8\ub378\uba85'][1] => model \ud30c\ub77c\ubbf8\ud130"
      ]
    },
    {
      "cell_type": "markdown",
      "metadata": {},
      "source": [
        "##### BIVAECF\n"
      ]
    },
    {
      "cell_type": "code",
      "execution_count": 20,
      "metadata": {},
      "outputs": [],
      "source": [
        "LATENT_DIM = 50\n",
        "ENCODER_DIMS = [100]\n",
        "ACT_FUNC = \"tanh\"\n",
        "LIKELIHOOD = \"pois\"\n",
        "NUM_EPOCHS = 1000\n",
        "BATCH_SIZE = 128\n",
        "LEARNING_RATE = 0.001"
      ]
    },
    {
      "cell_type": "code",
      "execution_count": 21,
      "metadata": {},
      "outputs": [
        {
          "data": {
            "text/plain": [
              "<cornac.models.bivaecf.recom_bivaecf.BiVAECF at 0x147e62af0>"
            ]
          },
          "execution_count": 21,
          "metadata": {},
          "output_type": "execute_result"
        }
      ],
      "source": [
        "params = {\n",
        "    'k': LATENT_DIM,\n",
        "    'encoder_structure':ENCODER_DIMS,\n",
        "    'act_fn' : ACT_FUNC,\n",
        "    'likelihood': LIKELIHOOD,\n",
        "    'n_epochs': NUM_EPOCHS,\n",
        "    'batch_size': BATCH_SIZE,\n",
        "    'learning_rate': LEARNING_RATE}\n",
        "\n",
        "model = BiVAECF(**params, seed=SEED, verbose=VERBOSE)\n",
        "models[model.name] = (model, params)\n",
        "BiVAECF()"
      ]
    },
    {
      "cell_type": "markdown",
      "metadata": {},
      "source": [
        "##### Embarrassingly Shallow Autoencoders for Sparse Data (EASE)"
      ]
    },
    {
      "cell_type": "code",
      "execution_count": 22,
      "metadata": {},
      "outputs": [],
      "source": [
        "params = {\n",
        "    'lamb': 40,\n",
        "    'posB': True,\n",
        "}\n",
        "\n",
        "model = EASE(**params, seed=SEED, verbose=VERBOSE)\n",
        "models[model.name] = (model, params)"
      ]
    },
    {
      "cell_type": "markdown",
      "metadata": {},
      "source": [
        "##### LightGCN"
      ]
    },
    {
      "cell_type": "code",
      "execution_count": 36,
      "metadata": {},
      "outputs": [],
      "source": [
        "params = {\n",
        "    'num_layers': 3,\n",
        "    'batch_size': 640,\n",
        "    'learning_rate': 0.0007457359048142671,\n",
        "    'lambda_reg' : 0.006838749269501347,\n",
        "    'num_epochs': 50,\n",
        "}\n",
        "\n",
        "model = LightGCN(**params,seed=SEED, verbose=VERBOSE)\n",
        "models[model.name] = (model, params)"
      ]
    },
    {
      "cell_type": "markdown",
      "metadata": {},
      "source": [
        "##### WMF"
      ]
    },
    {
      "cell_type": "code",
      "execution_count": 25,
      "metadata": {},
      "outputs": [],
      "source": [
        "params = {\n",
        "    'k': 3,\n",
        "    'max_iter': 390 ,\n",
        "    'learning_rate': 0.011271662653605422,\n",
        "    'lambda_u': 0,\n",
        "    'lambda_v': 0,\n",
        "    'batch_size': 512,\n",
        "}\n",
        "\n",
        "model = WMF(**params, seed=SEED, verbose=VERBOSE)\n",
        "models[model.name] = (model, params)"
      ]
    },
    {
      "cell_type": "markdown",
      "metadata": {},
      "source": [
        "##### NGCF"
      ]
    },
    {
      "cell_type": "code",
      "execution_count": 26,
      "metadata": {},
      "outputs": [],
      "source": [
        "params = {\n",
        "'emb_size': 112,\n",
        "'learning_rate': 0.0045876134988093184,\n",
        " 'lambda_reg': 0.008382902059879144\n",
        "}\n",
        "\n",
        "model = NGCF(**params, seed=SEED, verbose=VERBOSE)\n",
        "models[model.name] = (model, params)"
      ]
    },
    {
      "cell_type": "markdown",
      "metadata": {},
      "source": [
        "### Experiment"
      ]
    },
    {
      "cell_type": "code",
      "execution_count": 27,
      "metadata": {
        "scrolled": true
      },
      "outputs": [
        {
          "name": "stdout",
          "output_type": "stream",
          "text": [
            "rating_threshold = 1.0\n",
            "exclude_unknowns = True\n",
            "---\n",
            "Training data:\n",
            "Number of users = 8482\n",
            "Number of items = 6671\n",
            "Number of ratings = 40001\n",
            "Max rating = 1.0\n",
            "Min rating = 1.0\n",
            "Global mean = 1.0\n",
            "---\n",
            "Test data:\n",
            "Number of users = 8452\n",
            "Number of items = 6072\n",
            "Number of ratings = 17868\n",
            "Number of unknown users = 0\n",
            "Number of unknown items = 0\n",
            "---\n",
            "Total users = 8482\n",
            "Total items = 6671\n"
          ]
        }
      ],
      "source": [
        "# \ud3c9\uac00\ubc29\ubc95 \uc124\uc815\n",
        "eval_method = BaseMethod.from_splits(\n",
        "    train_data=np.array(train), \n",
        "    test_data=np.array(test), \n",
        "    exclude_unknowns=True,  # Unknown users and items will be ignored.\n",
        "    verbose=True\n",
        ")\n",
        "\n",
        "#Random split\n",
        "#ratio_split = RatioSplit(\n",
        "#  data=df, test_size=0.2, exclude_unknowns=True, seed=SEED, verbose=VERBOSE\n",
        "#)\n",
        "\n",
        "#K-fold CV\n",
        "#ratio_split = CrossValidation(\n",
        "#  data=data, n_folds=5, exclude_unknowns=True, seed=SEED, verbose=VERBOSE\n",
        "#)"
      ]
    },
    {
      "cell_type": "code",
      "execution_count": null,
      "metadata": {},
      "outputs": [],
      "source": [
        "%%time\n",
        "\n",
        "# \ud3c9\uac00\ucc99\ub3c4 \uc124\uc815\n",
        "metrics = [Recall(k=TOP_K), NDCG(k=TOP_K)]\n",
        "\n",
        "# \uc2e4\ud5d8 \uc218\ud589\n",
        "cornac.Experiment(\n",
        "    eval_method=eval_method,\n",
        "    models=[m[0] for m in models.values()],\n",
        "    metrics=metrics,\n",
        ").run()"
      ]
    },
    {
      "cell_type": "markdown",
      "metadata": {},
      "source": [
        "### Prediction"
      ]
    },
    {
      "cell_type": "code",
      "execution_count": null,
      "metadata": {},
      "outputs": [],
      "source": [
        "# \uc804\uccb4 \ub370\uc774\ud130 Cornac \ub370\uc774\ud130\ud615\uc2dd\uc73c\ub85c \ubcc0\ud658\n",
        "full_data = cornac.data.Dataset.from_uir(data.itertuples(index=False), seed=SEED)\n",
        "\n",
        "# \ubaa8\ub378 \uc120\ud0dd\n",
        "model = LightGCN #BiVAECF, LightGCN, EASE, NGCF, WMF\n",
        "\n",
        "# \uc804\uccb4 \ub370\uc774\ud130\ub85c \ub2e4\uc2dc \ud559\uc2b5\n",
        "model = model(**models[model().name][1], verbose=VERBOSE, seed=SEED)\n",
        "model.fit(full_data)"
      ]
    },
    {
      "cell_type": "code",
      "execution_count": null,
      "metadata": {},
      "outputs": [
        {
          "data": {
            "application/vnd.jupyter.widget-view+json": {
              "model_id": "9ab6d4c20c434534976052a84b13deda",
              "version_major": 2,
              "version_minor": 0
            },
            "text/plain": [
              "  0%|          | 0/8482 [00:00<?, ?it/s]"
            ]
          },
          "metadata": {},
          "output_type": "display_data"
        }
      ],
      "source": [
        "# All item\uc5d0 \ub300\ud55c \uc608\uce21\uac12 \uc0dd\uc131\n",
        "all_pred = predict_ranking(\n",
        "    model, data, \n",
        "    usercol=DEFAULT_USER_COL, itemcol=DEFAULT_ITEM_COL, \n",
        "    remove_seen=True\n",
        ")"
      ]
    },
    {
      "cell_type": "code",
      "execution_count": null,
      "metadata": {},
      "outputs": [],
      "source": [
        "# Top-K item \uc0dd\uc131\n",
        "top_k = (\n",
        "    all_pred\n",
        "    .groupby(DEFAULT_USER_COL)\n",
        "    .apply(lambda x: x.nlargest(TOP_K, DEFAULT_PREDICTION_COL))\n",
        "    .reset_index(drop=True)\n",
        "    #.drop(DEFAULT_PREDICTION_COL, axis=1)\n",
        "    .sort_values(by=DEFAULT_USER_COL)\n",
        ")\n",
        "\n",
        "# submission \ud654\uc77c \uc800\uc7a5\n",
        "t = pd.Timestamp.now()\n",
        "fname = f\"submit_{model.name}_{t.month:02}{t.day:02}{t.hour:02}{t.minute:02}.csv\"\n",
        "top_k.to_csv(fname, index=False)"
      ]
    },
    {
      "cell_type": "markdown",
      "metadata": {},
      "source": [
        "<font color='tomato'><font color=\"#CC3D3D\"><p>\n",
        "# End"
      ]
    }
  ],
  "metadata": {
    "accelerator": "GPU",
    "colab": {
      "name": "09_deep_learning.ipynb",
      "provenance": []
    },
    "kernelspec": {
      "display_name": "Pytorch2.0,Tensorflow2.12 (kaggle v135 23.07/ Python Conda 3.10,CUDA 11.8) on Backend.AI",
      "language": "python",
      "name": "python3"
    },
    "language_info": {
      "codemirror_mode": {
        "name": "ipython",
        "version": 3
      },
      "file_extension": ".py",
      "mimetype": "text/x-python",
      "name": "python",
      "nbconvert_exporter": "python",
      "pygments_lexer": "ipython3",
      "version": "3.8.18"
    }
  },
  "nbformat": 4,
  "nbformat_minor": 1
}