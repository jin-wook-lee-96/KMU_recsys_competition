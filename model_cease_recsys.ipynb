{
 "cells": [
  {
   "cell_type": "markdown",
   "id": "b4702c27",
   "metadata": {},
   "source": [
    "<font color='tomato'><font color=\"#CC3D3D\"><p>\n",
    "# CEASE (EASE with Side Information)"
   ]
  },
  {
   "cell_type": "markdown",
   "id": "59a80cf3",
   "metadata": {},
   "source": [
    "- **ADD-EASE**\n",
    "$$\n",
    "S^* = \\underset{S_x}{\\arg\\min} \\left( \\lVert \\mathbf{W}_x \\circ (\\mathbf{X} - \\mathbf{X}S_x) \\rVert_F^2 + \\lambda_x \\lVert S_x \\rVert_1 \\right)\n",
    "$$\n",
    "$$\n",
    "+ (1 - \\alpha) \\underset{S_r}{\\arg\\min} \\left( \\lVert \\mathbf{W}_r \\circ (\\mathbf{T} - \\mathbf{T}S_r) \\rVert_F^2 + \\lambda_r \\lVert S_r \\rVert_1 \\right)\n",
    "$$\n",
    "$$\n",
    "\\text{subject to } \\text{diag}(S_x) = \\text{diag}(S_r) = 0.\n",
    "$$\n",
    "- **CEASE**\n",
    "$$\n",
    "S^* = \\underset{S}{\\arg\\min} \\lVert \\sqrt{\\mathbf{W}} \\circ (\\mathbf{X}' - \\mathbf{X}'S) \\rVert_F^2 + \\lambda \\lVert S \\rVert_F^2,\n",
    "$$\n",
    "$$\n",
    "\\text{subject to } \\text{diag}(S) = 0, \\text{ where } \\mathbf{X}' = \\begin{bmatrix} \\mathbf{X} \\\\ \\mathbf{T} \\end{bmatrix}\n",
    "$$"
   ]
  },
  {
   "cell_type": "markdown",
   "id": "0f3b8867",
   "metadata": {},
   "source": [
    "이 튜토리얼은 아래 논문에서 제시한 모델을 Cornac 버전으로 수정한 것임.\n",
    "- \"Closed-Form Models for Collaborative Filtering with Side-Information\", Jeunen et al., RecSys2020.\n",
    "- https://github.com/olivierjeunen/ease-side-info-recsys-2020    \n",
    "\n",
    "또한, item feature 뿐만아니라 user feature도 side information으로 사용할 수 있게 모델을 확장하였음."
   ]
  },
  {
   "cell_type": "markdown",
   "id": "1e0d985e",
   "metadata": {},
   "source": [
    "### Setup"
   ]
  },
  {
   "cell_type": "code",
   "execution_count": 1,
   "id": "4a9584e0",
   "metadata": {},
   "outputs": [
    {
     "name": "stdout",
     "output_type": "stream",
     "text": [
      "FM model is only supported on Linux.\n",
      "Windows executable can be found at http://www.libfm.org.\n",
      "Cornac version: 1.17\n"
     ]
    }
   ],
   "source": [
    "import pandas as pd\n",
    "import numpy as np\n",
    "\n",
    "# MS recommenders API \n",
    "import sys\n",
    "sys.path.append('msr/')  # 본인이 msr.zip 압축을 푼 위치를 확인(셀에서 pwd 명령어 실행) 후 변경해야 함. \n",
    "                                                # 윈도우에서는 폴더 구분자를 // 또는 \\\\로 해야 함.  \n",
    "from msr.cornac_utils import predict_ranking\n",
    "from msr.python_splitters import python_stratified_split\n",
    "\n",
    "# Cornac API \n",
    "import cornac\n",
    "print(f\"Cornac version: {cornac.__version__}\")\n",
    "from cornac.eval_methods import BaseMethod, RatioSplit, StratifiedSplit, CrossValidation\n",
    "from cornac.metrics import Precision, Recall, NDCG, AUC, MAP\n",
    "from cornac.data import FeatureModality\n",
    "from cornac.models import EASE\n",
    "\n",
    "# Custom models\n",
    "from recom_cease import CEASE"
   ]
  },
  {
   "cell_type": "code",
   "execution_count": 2,
   "id": "86eecaea",
   "metadata": {},
   "outputs": [],
   "source": [
    "# Data column definition\n",
    "DEFAULT_USER_COL = 'resume_seq'\n",
    "DEFAULT_ITEM_COL = 'recruitment_seq'\n",
    "DEFAULT_RATING_COL = 'rating'\n",
    "DEFAULT_PREDICTION_COL = 'prediction'\n",
    "\n",
    "# Top k items to recommend\n",
    "TOP_K = 15\n",
    "\n",
    "# Random seed, Verbose, etc.\n",
    "SEED = 202311\n",
    "VERBOSE = True"
   ]
  },
  {
   "cell_type": "markdown",
   "id": "be84a3ae",
   "metadata": {},
   "source": [
    "### Preprocessing"
   ]
  },
  {
   "cell_type": "code",
   "execution_count": 3,
   "id": "75e23a63",
   "metadata": {},
   "outputs": [],
   "source": [
    "# 데이터 로딩\n",
    "data = pd.read_csv('data/apply_train.csv')\n",
    "data[DEFAULT_RATING_COL] = 1  # Cornac에서 지정한 데이터형식(UIR: User, Item, Rating)에 따라\n",
    "\n",
    "# 데이터 분할\n",
    "train, test = python_stratified_split(\n",
    "    data, \n",
    "    filter_by=\"user\", \n",
    "    ratio=0.7,\n",
    "    col_user=DEFAULT_USER_COL, col_item=DEFAULT_ITEM_COL,\n",
    "    seed=SEED\n",
    ")"
   ]
  },
  {
   "cell_type": "code",
   "execution_count": 4,
   "id": "513dde52",
   "metadata": {},
   "outputs": [],
   "source": [
    "# (Recsys_feature_engineering.ipynb를 실행하여) 전처리된 Side information 가져오기\n",
    "user_features, item_features = pd.read_pickle('features.pkl')\n",
    "\n",
    "# 학습 rating matrix에 속하는 item만을 추출하고 train과 ids 순서를 맞추기 위해 아래와 같이 필터링\n",
    "train_user_features = user_features[train[DEFAULT_USER_COL].unique()]\n",
    "train_item_features = item_features[train[DEFAULT_ITEM_COL].unique()]"
   ]
  },
  {
   "cell_type": "markdown",
   "id": "927d3d41",
   "metadata": {},
   "source": [
    "### Modeling"
   ]
  },
  {
   "cell_type": "code",
   "execution_count": 5,
   "id": "8a658124",
   "metadata": {},
   "outputs": [],
   "source": [
    "params = {\n",
    "    'lamb': 60,\n",
    "    'posB': True,\n",
    "}\n",
    "\n",
    "ease = EASE(**params, seed=SEED, verbose=VERBOSE)"
   ]
  },
  {
   "cell_type": "code",
   "execution_count": 6,
   "id": "1fb16708",
   "metadata": {},
   "outputs": [],
   "source": [
    "params = {\n",
    "    'name': \"CEASE-user\",\n",
    "    'feature': \"user\",\n",
    "    'lamb': 60,\n",
    "    'alpha': 0.5,\n",
    "    'extend': \"collective\"\n",
    "}\n",
    "\n",
    "cease_user = CEASE(**params, seed=SEED, verbose=VERBOSE)"
   ]
  },
  {
   "cell_type": "code",
   "execution_count": 7,
   "id": "e6083aba",
   "metadata": {},
   "outputs": [],
   "source": [
    "params = {\n",
    "    'name': \"ADD-EASE-item\",\n",
    "    'feature': \"item\",\n",
    "    'lamb': 60,\n",
    "    'alpha': 0.5,\n",
    "    'extend': \"additive\", # or \"collective\"\n",
    "}\n",
    "\n",
    "add_ease_item = CEASE(**params, seed=SEED, verbose=VERBOSE)"
   ]
  },
  {
   "cell_type": "code",
   "execution_count": 8,
   "id": "871a8164",
   "metadata": {},
   "outputs": [],
   "source": [
    "params = {\n",
    "    'name': \"CEASE-item\",\n",
    "    'feature': \"item\",\n",
    "    'lamb': 60,\n",
    "    'alpha': 0.5,\n",
    "    'extend': \"collective\", # or \"collective\"\n",
    "}\n",
    "\n",
    "cease_item = CEASE(**params, seed=SEED, verbose=VERBOSE)"
   ]
  },
  {
   "cell_type": "code",
   "execution_count": 9,
   "id": "84fccdde",
   "metadata": {},
   "outputs": [],
   "source": [
    "# Cornac에서 side-info를 모델에 전달하기 위한 수단인 FeatureModality 생성\n",
    "user_feature_modality = FeatureModality(features=train_user_features, ids=None, normalize=True)\n",
    "item_feature_modality = FeatureModality(features=train_item_features, ids=None, normalize=False)"
   ]
  },
  {
   "cell_type": "markdown",
   "id": "c77c92f6",
   "metadata": {},
   "source": [
    "### Evaluation"
   ]
  },
  {
   "cell_type": "code",
   "execution_count": null,
   "id": "cdb1d657",
   "metadata": {
    "scrolled": true
   },
   "outputs": [],
   "source": [
    "# 평가방법 설정\n",
    "eval_method = BaseMethod.from_splits(\n",
    "    train_data=np.array(train), \n",
    "    test_data=np.array(test), \n",
    "    exclude_unknowns=True,  # Unknown users and items will be ignored.\n",
    "    user_feature=user_feature_modality,\n",
    "    item_feature=item_feature_modality,\n",
    "    verbose=True\n",
    ")\n",
    "\n",
    "# 평가척도 설정\n",
    "metrics = [Recall(k=TOP_K), NDCG(k=TOP_K)]\n",
    "\n",
    "# 실험 수행\n",
    "cornac.Experiment(\n",
    "    eval_method=eval_method,\n",
    "    models=[ease, cease_user, add_ease_item,cease_item], ##ease, cease_user, add_ease_item,\n",
    "    metrics=metrics,\n",
    ").run()"
   ]
  },
  {
   "cell_type": "markdown",
   "id": "4d143939",
   "metadata": {},
   "source": [
    "### Deployment"
   ]
  },
  {
   "cell_type": "code",
   "execution_count": 34,
   "id": "6fb27c54",
   "metadata": {},
   "outputs": [
    {
     "data": {
      "application/vnd.jupyter.widget-view+json": {
       "model_id": "f61647f3e9394ad997e299ef160f7e9d",
       "version_major": 2,
       "version_minor": 0
      },
      "text/plain": [
       "  0%|          | 0/8482 [00:00<?, ?it/s]"
      ]
     },
     "metadata": {},
     "output_type": "display_data"
    }
   ],
   "source": [
    "# 전체 데이터(rating/side-info)로 다시 학습\n",
    "# data.Dataset.from_uir()이 FeatureModality를 지원하지 않아 .fit()의 파라미터로 item feature를 전달\n",
    "full_data = cornac.data.Dataset.from_uir(data.itertuples(index=False), seed=SEED)\n",
    "full_user_features = user_features[data[DEFAULT_USER_COL].unique()]\n",
    "full_item_features = item_features[data[DEFAULT_ITEM_COL].unique()]\n",
    "\n",
    "model = CEASE(**params, verbose=VERBOSE, seed=SEED)  \n",
    "model.fit(full_data, user_features=full_user_features, item_features=full_item_features)\n",
    "\n",
    "# 모든 item에 대한 예측값 생성\n",
    "all_pred = predict_ranking(\n",
    "    model, data, \n",
    "    usercol=DEFAULT_USER_COL, itemcol=DEFAULT_ITEM_COL, \n",
    "    remove_seen=True\n",
    ")\n",
    "\n",
    "# Top-K item 생성\n",
    "top_k = (\n",
    "    all_pred\n",
    "    .groupby(DEFAULT_USER_COL)\n",
    "    .apply(lambda x: x.nlargest(TOP_K, DEFAULT_PREDICTION_COL))\n",
    "    .reset_index(drop=True)\n",
    "   # .drop(DEFAULT_PREDICTION_COL, axis=1)\n",
    "    .sort_values(by=DEFAULT_USER_COL)\n",
    ")\n",
    "\n",
    "# submission 화일 저장\n",
    "t = pd.Timestamp.now()\n",
    "fname = f\"submit_{model.name}_{t.month:02}{t.day:02}{t.hour:02}{t.minute:02}.csv\"\n",
    "top_k.to_csv(fname, index=False)"
   ]
  },
  {
   "cell_type": "markdown",
   "id": "eda7c9e4",
   "metadata": {},
   "source": [
    "<font color='tomato'><font color=\"#CC3D3D\"><p>\n",
    "# End"
   ]
  }
 ],
 "metadata": {
  "kernelspec": {
   "display_name": "Pytorch2.0,Tensorflow2.12 (kaggle v135 23.07/ Python Conda 3.10,CUDA 11.8) on Backend.AI",
   "language": "python",
   "name": "python3"
  },
  "language_info": {
   "codemirror_mode": {
    "name": "ipython",
    "version": 3
   },
   "file_extension": ".py",
   "mimetype": "text/x-python",
   "name": "python",
   "nbconvert_exporter": "python",
   "pygments_lexer": "ipython3",
   "version": "3.8.18"
  }
 },
 "nbformat": 4,
 "nbformat_minor": 5
}
